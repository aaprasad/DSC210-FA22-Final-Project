{
  "cells": [
    {
      "cell_type": "code",
      "execution_count": null,
      "metadata": {
        "colab": {
          "base_uri": "https://localhost:8080/"
        },
        "id": "LBUJj1AB--7T",
        "outputId": "97b619e1-f137-4304-9fea-a6b529736d2c"
      },
      "outputs": [
        {
          "output_type": "stream",
          "name": "stderr",
          "text": [
            "[nltk_data] Downloading package stopwords to /root/nltk_data...\n",
            "[nltk_data]   Package stopwords is already up-to-date!\n",
            "[nltk_data] Downloading package stopwords to /root/nltk_data...\n",
            "[nltk_data]   Package stopwords is already up-to-date!\n",
            "[nltk_data] Downloading package punkt to /root/nltk_data...\n",
            "[nltk_data]   Package punkt is already up-to-date!\n",
            "[nltk_data] Downloading package omw-1.4 to /root/nltk_data...\n",
            "[nltk_data]   Package omw-1.4 is already up-to-date!\n",
            "[nltk_data] Downloading package wordnet to /root/nltk_data...\n",
            "[nltk_data]   Package wordnet is already up-to-date!\n",
            "[nltk_data] Downloading package stopwords to /root/nltk_data...\n",
            "[nltk_data]   Package stopwords is already up-to-date!\n",
            "[nltk_data] Downloading package punkt to /root/nltk_data...\n",
            "[nltk_data]   Package punkt is already up-to-date!\n",
            "[nltk_data] Downloading package omw-1.4 to /root/nltk_data...\n",
            "[nltk_data]   Package omw-1.4 is already up-to-date!\n",
            "[nltk_data] Downloading package wordnet to /root/nltk_data...\n",
            "[nltk_data]   Package wordnet is already up-to-date!\n"
          ]
        },
        {
          "output_type": "stream",
          "name": "stdout",
          "text": [
            "Looking in indexes: https://pypi.org/simple, https://us-python.pkg.dev/colab-wheels/public/simple/\n",
            "Requirement already satisfied: gensim in /usr/local/lib/python3.8/dist-packages (4.2.0)\n",
            "Requirement already satisfied: smart-open>=1.8.1 in /usr/local/lib/python3.8/dist-packages (from gensim) (5.2.1)\n",
            "Requirement already satisfied: scipy>=0.18.1 in /usr/local/lib/python3.8/dist-packages (from gensim) (1.7.3)\n",
            "Requirement already satisfied: numpy>=1.17.0 in /usr/local/lib/python3.8/dist-packages (from gensim) (1.21.6)\n"
          ]
        }
      ],
      "source": [
        "import pandas as pd;\n",
        "import numpy as np;\n",
        "import scipy as sp;\n",
        "import sklearn;\n",
        "import sys;\n",
        "import nltk\n",
        "nltk.download('stopwords')\n",
        "from nltk.corpus import stopwords;\n",
        "from gensim.models import ldamodel\n",
        "nltk.download('stopwords')\n",
        "from nltk.corpus import stopwords\n",
        "nltk.download('punkt')\n",
        "from nltk.tokenize import word_tokenize\n",
        "nltk.download('omw-1.4')\n",
        "from nltk.corpus import wordnet\n",
        "nltk.download('wordnet')\n",
        "from nltk.stem import WordNetLemmatizer\n",
        "import gensim.corpora;\n",
        "from sklearn.feature_extraction.text import CountVectorizer, TfidfTransformer;\n",
        "from sklearn.decomposition import NMF;\n",
        "from sklearn.preprocessing import normalize;\n",
        "import pickle;\n",
        "!pip install -U gensim\n",
        "from gensim.models.coherencemodel import CoherenceModel\n",
        "from gensim.corpora import Dictionary\n",
        "from gensim.models.nmf import Nmf\n",
        "from operator import itemgetter\n",
        "import matplotlib.pyplot as plt \n",
        "import resource\n",
        "import tracemalloc\n"
      ]
    },
    {
      "cell_type": "code",
      "execution_count": null,
      "metadata": {
        "colab": {
          "base_uri": "https://localhost:8080/"
        },
        "id": "41NT_HR1AUE4",
        "outputId": "8b264658-c082-42b1-f83a-b15536d09069"
      },
      "outputs": [
        {
          "output_type": "stream",
          "name": "stdout",
          "text": [
            "Drive already mounted at /content/drive; to attempt to forcibly remount, call drive.mount(\"/content/drive\", force_remount=True).\n"
          ]
        }
      ],
      "source": [
        "from google.colab import drive\n",
        "drive.mount('/content/drive')"
      ]
    },
    {
      "cell_type": "code",
      "execution_count": null,
      "metadata": {
        "id": "lO3Cl6gCFvJf",
        "colab": {
          "base_uri": "https://localhost:8080/"
        },
        "outputId": "2fc3c750-aa73-421a-b14b-e45d31519946"
      },
      "outputs": [
        {
          "output_type": "stream",
          "name": "stderr",
          "text": [
            "/usr/local/lib/python3.8/dist-packages/IPython/core/interactiveshell.py:3326: FutureWarning: The error_bad_lines argument has been deprecated and will be removed in a future version.\n",
            "\n",
            "\n",
            "  exec(code_obj, self.user_global_ns, self.user_ns)\n"
          ]
        }
      ],
      "source": [
        "data = pd.read_csv('drive/My Drive/abcnews-date-text.csv', error_bad_lines=False);\n",
        "headlines = data[['headline_text']]\n",
        "headlines = headlines.astype('str')"
      ]
    },
    {
      "cell_type": "code",
      "execution_count": null,
      "metadata": {
        "id": "IrlCKGz9yoeV"
      },
      "outputs": [],
      "source": [
        "def tokenize_words(txt):\n",
        "  tokenized= word_tokenize(txt)\n",
        "  return tokenized\n",
        "\n",
        "\n",
        "def word_lemmatizer(tokenized_text_without_stopwords):\n",
        "  wordnet_lemmatizer = WordNetLemmatizer()\n",
        "  lemmatized = [wordnet_lemmatizer.lemmatize(word) for word in tokenized_text_without_stopwords]\n",
        "  return ' '.join(lemmatized)\n",
        "\n",
        "def remove_stopwords(tokenized_txt):\n",
        "  cleaned_text_array = [word for word in tokenized_txt if word not in stop_words]\n",
        "  return cleaned_text_array\n",
        "\n",
        "\n",
        "stop_words = stopwords.words('english')\n",
        "headlines['headline_tokenized_text']=headlines['headline_text'].apply(tokenize_words)\n",
        "headlines['processed_headlines'] = headlines['headline_tokenized_text'].apply(lambda x: remove_stopwords(x))\n",
        "\n",
        "headlines['final_processed'] = headlines['processed_headlines'].apply(lambda x: word_lemmatizer(x))\n",
        "\n",
        "training_headlines = headlines['final_processed']"
      ]
    },
    {
      "cell_type": "code",
      "execution_count": null,
      "metadata": {
        "id": "T8o2swORJJCd"
      },
      "outputs": [],
      "source": [
        "pickle.dump(training_headlines, open('training_headlines.dat', 'wb'))\n",
        "#get the words as an array for lda input"
      ]
    },
    {
      "cell_type": "code",
      "execution_count": null,
      "metadata": {
        "colab": {
          "base_uri": "https://localhost:8080/"
        },
        "id": "Y_pRefUzMJ5_",
        "outputId": "25517736-37ad-4010-e49a-8e2fad4f069a"
      },
      "outputs": [
        {
          "output_type": "stream",
          "name": "stderr",
          "text": [
            "/usr/local/lib/python3.8/dist-packages/gensim/models/ldamodel.py:1023: RuntimeWarning: divide by zero encountered in log\n",
            "  logger.info('initializing workers')\n"
          ]
        }
      ],
      "source": [
        "train_headlines = [value.split() for value in training_headlines]\n",
        "id2word = gensim.corpora.Dictionary(train_headlines);\n",
        "corpus = [id2word.doc2bow(text) for text in train_headlines];\n"
      ]
    },
    {
      "cell_type": "code",
      "execution_count": null,
      "metadata": {
        "id": "d5YWUog6MfNW"
      },
      "outputs": [],
      "source": [
        "def get_lda_topics(model, num_topics):\n",
        "    word_dict = {};\n",
        "    for i in range(num_topics):\n",
        "        words = model.show_topic(i, topn = 10);\n",
        "        word_dict['Topic # ' + '{:02d}'.format(i+1)] = [i[0] for i in words];\n",
        "    return pd.DataFrame(word_dict);"
      ]
    },
    {
      "cell_type": "code",
      "execution_count": null,
      "metadata": {
        "id": "5RsYyCcV7ke9",
        "colab": {
          "base_uri": "https://localhost:8080/"
        },
        "outputId": "45517a76-93c1-433e-d16c-b794a40f4427"
      },
      "outputs": [
        {
          "output_type": "stream",
          "name": "stdout",
          "text": [
            "\n",
            "Coherence Score:  0.21792194933603307\n",
            "\n",
            "Coherence Score:  0.2446134154530079\n",
            "\n",
            "Coherence Score:  0.3057620972148714\n",
            "\n",
            "Coherence Score:  0.45123388837416395\n",
            "\n",
            "Coherence Score:  0.4794069907704779\n",
            "\n",
            "Coherence Score:  0.4188788006762406\n",
            "\n",
            "Coherence Score:  0.3373071071394714\n"
          ]
        }
      ],
      "source": [
        "num_topics=[10,20,50,100,200,300,500]\n",
        "usertime=[]\n",
        "memory=[]\n",
        "coherence_scores=[]\n",
        "models=[]\n",
        "for topics in num_topics:\n",
        "  tracemalloc.start()\n",
        "  usage=resource.getrusage(resource.RUSAGE_SELF)\n",
        "  usertime.append(usage[1])\n",
        "  memory.append(tracemalloc.get_traced_memory()[0] )\n",
        "  lda = ldamodel.LdaModel(corpus=corpus, id2word=id2word, num_topics=topics);\n",
        "  models.append(lda) \n",
        "  get_lda_topics(lda, topics)\n",
        "  coherence_model_lda = CoherenceModel(model=lda, texts=train_headlines, dictionary=id2word, coherence='c_v')\n",
        "  coherence_lda = coherence_model_lda.get_coherence()\n",
        "  coherence_scores.append(coherence_lda)\n",
        "  print('\\nCoherence Score: ', coherence_lda)\n",
        "\n",
        "\n",
        "usage=resource.getrusage(resource.RUSAGE_SELF)\n",
        "usertime.append(usage[1])\n",
        "tracemalloc.stop()"
      ]
    },
    {
      "cell_type": "code",
      "execution_count": null,
      "metadata": {
        "colab": {
          "base_uri": "https://localhost:8080/",
          "height": 282
        },
        "id": "7ustVcGO1nL8",
        "outputId": "b672edee-e885-49ec-8229-a3d6a169618b"
      },
      "outputs": [
        {
          "output_type": "execute_result",
          "data": {
            "text/plain": [
              "[<matplotlib.lines.Line2D at 0x7f3f21095430>]"
            ]
          },
          "metadata": {},
          "execution_count": 14
        },
        {
          "output_type": "display_data",
          "data": {
            "text/plain": [
              "<Figure size 432x288 with 1 Axes>"
            ],
            "image/png": "[encoded data removed]"
          },
          "metadata": {
            "needs_background": "light"
          }
        }
      ],
      "source": [
        "plt.plot(num_topics,coherence_scores)"
      ]
    },
    {
      "cell_type": "code",
      "source": [
        "plt.plot(num_topics,[i/1024 for i in memory])"
      ],
      "metadata": {
        "colab": {
          "base_uri": "https://localhost:8080/",
          "height": 282
        },
        "id": "myOk7nUFyH-w",
        "outputId": "66141010-c8e5-4f5f-98b2-69de850ae7ad"
      },
      "execution_count": null,
      "outputs": [
        {
          "output_type": "execute_result",
          "data": {
            "text/plain": [
              "[<matplotlib.lines.Line2D at 0x7f3f162e27c0>]"
            ]
          },
          "metadata": {},
          "execution_count": 44
        },
        {
          "output_type": "display_data",
          "data": {
            "text/plain": [
              "<Figure size 432x288 with 1 Axes>"
            ],
            "image/png": "[encoded data removed]"
          },
          "metadata": {
            "needs_background": "light"
          }
        }
      ]
    },
    {
      "cell_type": "code",
      "execution_count": null,
      "metadata": {
        "colab": {
          "base_uri": "https://localhost:8080/",
          "height": 317
        },
        "id": "b4C-Kyol4bmn",
        "outputId": "0e4a8ec9-6523-45a6-93ef-0c666645e15a"
      },
      "outputs": [
        {
          "output_type": "stream",
          "name": "stdout",
          "text": [
            "[24.236774, 34.32916, 41.432735, 46.08656, 55.966023, 73.029283, 97.49084, 138.268226]\n",
            "[10.092386000000001, 7.103574999999999, 4.653824999999998, 9.879463000000001, 17.063260000000007, 24.461557, 40.77738599999999]\n"
          ]
        },
        {
          "output_type": "execute_result",
          "data": {
            "text/plain": [
              "[<matplotlib.lines.Line2D at 0x7f3f17cbfca0>]"
            ]
          },
          "metadata": {},
          "execution_count": 17
        },
        {
          "output_type": "display_data",
          "data": {
            "text/plain": [
              "<Figure size 432x288 with 1 Axes>"
            ],
            "image/png": "[encoded data removed]"
          },
          "metadata": {
            "needs_background": "light"
          }
        }
      ],
      "source": [
        "times_taken=[]\n",
        "\n",
        "for idx, time in enumerate(usertime):\n",
        "  if len(usertime) > idx+1:\n",
        "    time_taken=usertime[idx+1]-time\n",
        "    times_taken.append(time_taken)\n",
        "\n",
        "print(usertime)\n",
        "print(times_taken)\n",
        "\n",
        "plt.plot(num_topics[:],times_taken)"
      ]
    },
    {
      "cell_type": "code",
      "source": [
        "for idx, model in enumerate(models):\n",
        "  pd_model=get_lda_topics(model, 10)\n",
        "  print(pd_model)"
      ],
      "metadata": {
        "colab": {
          "base_uri": "https://localhost:8080/"
        },
        "id": "F4dPXdD5yp4-",
        "outputId": "473f5959-64a3-43b9-a75b-709d66486d93"
      },
      "execution_count": null,
      "outputs": [
        {
          "output_type": "stream",
          "name": "stdout",
          "text": [
            "  Topic # 01 Topic # 02 Topic # 03  Topic # 04   Topic # 05   Topic # 06  \\\n",
            "0     police     people    vaccine         nsw  coronavirus         case   \n",
            "1      trump   morrison   tasmania      donald       change  coronavirus   \n",
            "2        man      house   bushfire      family          new        china   \n",
            "3      woman        afl     school          sa   quarantine         news   \n",
            "4      court     island        nsw     federal       market          new   \n",
            "5      death      hotel        ban        care     brisbane        state   \n",
            "6   national    missing    student  indigenous      concern       health   \n",
            "7  melbourne      local     worker        aged      testing            ;   \n",
            "8     murder     darwin      beach    regional         rise         live   \n",
            "9      found      price       risk      update       travel        covid   \n",
            "\n",
            "    Topic # 07   Topic # 08   Topic # 09 Topic # 10  \n",
            "0          say   queensland        covid  australia  \n",
            "1   australian   government           19     record  \n",
            "2     victoria    australia     election      world  \n",
            "3            u          day         home     sydney  \n",
            "4       border  restriction        scott   canberra  \n",
            "5     lockdown          nsw    victorian       show  \n",
            "6    australia        south         life     andrew  \n",
            "7      premier          one  coronavirus     return  \n",
            "8  coronavirus        crash     pandemic      close  \n",
            "9        biden         test        royal       open  \n",
            "  Topic # 01 Topic # 02  Topic # 03 Topic # 04 Topic # 05 Topic # 06  \\\n",
            "0      perth      south          wa        say          u     people   \n",
            "1     farmer   bushfire  government     record         dy    concern   \n",
            "2       rule       help        home          ;        joe        abc   \n",
            "3  christmas    protest      border        two       find     update   \n",
            "4       look     number          sa      world     killed    alleged   \n",
            "5    rollout        old      worker     island    finance     darwin   \n",
            "6       drum      black     premier    testing       mask       risk   \n",
            "7       wall    service  indigenous         pm    funding       four   \n",
            "8       week    inquiry        plan     guilty     launch    accused   \n",
            "9      still        cut       close      price   thousand        sex   \n",
            "\n",
            "   Topic # 07   Topic # 08 Topic # 09   Topic # 10  \n",
            "0  queensland   australian     sydney          nsw  \n",
            "1    victoria        coast        man     election  \n",
            "2       crash        found      woman        state  \n",
            "3         car         life      court         care  \n",
            "4      travel        north     police         aged  \n",
            "5         end         gold      child       street  \n",
            "6      police        labor     murder        local  \n",
            "7      speaks          law       face          war  \n",
            "8         nrl       victim  community        video  \n",
            "9       storm  coronavirus    charged  coronavirus  \n",
            "  Topic # 01 Topic # 02 Topic # 03  Topic # 04  Topic # 05   Topic # 06  \\\n",
            "0      covid         sa     update  government      travel     hospital   \n",
            "1         19     family        top      change      street          afl   \n",
            "2   regional     farmer       beat     climate      leader         find   \n",
            "3     darwin        law      trade         job  parliament         park   \n",
            "4     budget  emergency      issue       beach        mine       doctor   \n",
            "5        new     medium       bank     assault     economy  coronavirus   \n",
            "6       next       farm       team      sexual   indonesia         stop   \n",
            "7       port    drought         dr       abuse     refugee     released   \n",
            "8       free       part     kohler       white      debate     shortage   \n",
            "9     prison      major    morning        tree     another        money   \n",
            "\n",
            "   Topic # 07  Topic # 08 Topic # 09   Topic # 10  \n",
            "0         day  indigenous        man         year  \n",
            "1         one      killed   pandemic    melbourne  \n",
            "2       could     service    charged       school  \n",
            "3     protest     inquiry      final     adelaide  \n",
            "4         war     liberal     review         take  \n",
            "5         cut        hong     jailed          old  \n",
            "6  allegation        kong     murder    tasmanian  \n",
            "7    thousand          mp      rugby       driver  \n",
            "8    domestic      threat       tour      chinese  \n",
            "9        lead      spring      stage  coronavirus  \n",
            "  Topic # 01 Topic # 02 Topic # 03 Topic # 04 Topic # 05 Topic # 06  \\\n",
            "0      china      young        man        say      abuse  community   \n",
            "1     russia        run     market      close   question     future   \n",
            "2  allegedly      rugby     jailed        war      month      watch   \n",
            "3     secret      grant    growing    message       drop     advice   \n",
            "4        dam         40    rescued  insurance      leave     forced   \n",
            "5       slow   overseas      daily  operation   official     indian   \n",
            "6   solution     survey      fraud      today      crowd      doubt   \n",
            "7  container    benefit    custody    cleared     career     warned   \n",
            "8   register   marriage     shadow     ruling      avoid     longer   \n",
            "9   starting       crow     single       iraq      title   exercise   \n",
            "\n",
            "   Topic # 07 Topic # 08 Topic # 09 Topic # 10  \n",
            "0  government        qld       home    michael  \n",
            "1       court    warning    finance       talk  \n",
            "2        face      claim    housing       rape  \n",
            "3      charge       fear       star       ever  \n",
            "4        tree    country     behind         15  \n",
            "5      israel     prison        key      ready  \n",
            "6       check    closure      tiger     figure  \n",
            "7        fund       team     access     taiwan  \n",
            "8      virgin       club      going     senior  \n",
            "9     appears     result    dispute      flash  \n",
            "  Topic # 01 Topic # 02   Topic # 03  Topic # 04   Topic # 05   Topic # 06  \\\n",
            "0     public        red  restriction       death         risk         name   \n",
            "1     mother     reopen        south     company       doctor       palmer   \n",
            "2     likely       bail          law    official      waiting       suburb   \n",
            "3       rail      cross       leader       event         lack         pain   \n",
            "4     racing       reef         east     finding     critical         jump   \n",
            "5   chemical        led        track  backpacker  opportunity      freedom   \n",
            "6   condemns       navy       summit        role         mill         golf   \n",
            "7      marsh      sends  legislation     coroner   frustrated       triple   \n",
            "8     inland  confusion         duck        wood       design  electricity   \n",
            "9  preparing    refused      updated       upset   magistrate       merger   \n",
            "\n",
            "     Topic # 07   Topic # 08    Topic # 09 Topic # 10  \n",
            "0        strike       killed         surge      china  \n",
            "1          mean           20          self       port  \n",
            "2           cbd      outside     threatens  authority  \n",
            "3       witness          eye        specie     safety  \n",
            "4          milk    behaviour       eastern       rock  \n",
            "5    defamation      diamond    ambassador         50  \n",
            "6        muslim         poll           ask      trail  \n",
            "7  organisation    statement            ab   comeback  \n",
            "8         squad       mosque       content      jetty  \n",
            "9           nbl  palestinian  agricultural  providing  \n",
            "    Topic # 01 Topic # 02   Topic # 03 Topic # 04 Topic # 05 Topic # 06  \\\n",
            "0     business       king        abuse      child        dog     almost   \n",
            "1       attack  potential        place    patient        tax      allow   \n",
            "2      prepare  container    singapore       jail        way       hear   \n",
            "3     approach   islander     saturday   expanded     office   complete   \n",
            "4          mud   thriller  performance         oh     german      bilby   \n",
            "5         crab  direction       patrol  deterrent  extension        atp   \n",
            "6  grasshopper      dubai      blowout      segra  colleague    doubled   \n",
            "7       'utter   resigned        rocky      bolto      raped     bracks   \n",
            "8        bolto   outlasts        swiss      forst     sharon    roddick   \n",
            "9        forst   nikkolls      ecstasy     'caged   licensed     caalas   \n",
            "\n",
            "  Topic # 07 Topic # 08   Topic # 09  Topic # 10  \n",
            "0        car  protester         tour      change  \n",
            "1        end        run        stage       white  \n",
            "2        air       anti      leading     science  \n",
            "3      shine       step  independent  researcher  \n",
            "4     streak  criticism   wollongong     looking  \n",
            "5    scoring     howard      contest      plunge  \n",
            "6      bolto      spree    inspector      castle  \n",
            "7     'utter        cox    dismisses  rebuilding  \n",
            "8   nikkolls  adventure        dixon   avalanche  \n",
            "9      forst      bolto     predicts      engage  \n",
            "  Topic # 01 Topic # 02   Topic # 03 Topic # 04 Topic # 05 Topic # 06  \\\n",
            "0     murray    pacific      tragedy      scrap  tasmanian    delayed   \n",
            "1       real  operation         kept        fee     banned       accc   \n",
            "2      forum    mildura        dutch   riverina       hall       fair   \n",
            "3   goulburn    condemn      boating        sub       hurt     petrol   \n",
            "4    ronaldo  childhood  acquisition     highly     source       doom   \n",
            "5      segra      harsh        akram     angler       fame      gloom   \n",
            "6   nikkolls   misusing         1710      segra   driveway      bolto   \n",
            "7     'utter      iluka     nikkolls   nikkolls   inducted      segra   \n",
            "8      bolto   nikkolls       'utter    mannion       iaaf     'utter   \n",
            "9      forst    mannion        noris      forst      forst     'caged   \n",
            "\n",
            "  Topic # 07 Topic # 08 Topic # 09   Topic # 10  \n",
            "0       want  treatment      fatal        young  \n",
            "1     system   forecast      mayor          asx  \n",
            "2       play     weapon      cause      refugee  \n",
            "3   nikkolls     hanson   landfill  information  \n",
            "4      segra       came      segra      receive  \n",
            "5       1710  inspector      bolto      planned  \n",
            "6    mannion    blowout    mannion     islander  \n",
            "7      forst     'caged     'caged    permanent  \n",
            "8      bolto      forst      forst    residency  \n",
            "9     'caged      segra      noris     resigned  \n"
          ]
        }
      ]
    },
    {
      "cell_type": "code",
      "source": [
        "for idx, model  in enumerate(models):\n",
        "  count=0\n",
        "  for line in headlines['final_processed']: # where each line in the document is its own sentence for simplicity\n",
        "    if count<10:\n",
        "      word_dict = {};\n",
        "      line_split=line.split()\n",
        "      line_bow = id2word.doc2bow(line_split)\n",
        "      doc_lda = model[line_bow]\n",
        "      if(round(max(doc_lda)[1]*100,2)>80):\n",
        "        count=count+1\n",
        "        print('\\nSentence: ', line)\n",
        "        print( 'assigned to Topic ' + str(max(doc_lda)[0]) + ' with ' + str(round(max(doc_lda)[1]*100,2)) + ' probability!' + 'trained on model with ' + str(num_topics[idx]) + ' topics')\n",
        "        words = model.show_topic(max(doc_lda)[0], topn = 10);\n",
        "        word_dict['Topic # ' + '{:02d}'.format(max(doc_lda)[0])] = [i[0] for i in words];\n",
        "        pd.DataFrame(word_dict)\n",
        "        print(word_dict)\n"
      ],
      "metadata": {
        "colab": {
          "base_uri": "https://localhost:8080/"
        },
        "id": "oh01gzrS0iRQ",
        "outputId": "5ba83da7-9a2c-4b0e-82c4-30024c80735f"
      },
      "execution_count": null,
      "outputs": [
        {
          "output_type": "stream",
          "name": "stdout",
          "text": [
            "\n",
            "Sentence:  esso responsible economic loss gas\n",
            "assigned to Topic 9 with 85.0 probability!trained on model with 10 topics\n",
            "{'Topic # 09': ['australia', 'record', 'world', 'sydney', 'canberra', 'show', 'andrew', 'return', 'close', 'open']}\n",
            "\n",
            "Sentence:  ganguly lead india victory\n",
            "assigned to Topic 9 with 82.0 probability!trained on model with 10 topics\n",
            "{'Topic # 09': ['australia', 'record', 'world', 'sydney', 'canberra', 'show', 'andrew', 'return', 'close', 'open']}\n",
            "\n",
            "Sentence:  hagan blood rookie penrith\n",
            "assigned to Topic 9 with 82.0 probability!trained on model with 10 topics\n",
            "{'Topic # 09': ['australia', 'record', 'world', 'sydney', 'canberra', 'show', 'andrew', 'return', 'close', 'open']}\n",
            "\n",
            "Sentence:  schmeichel set miss arsenal trip\n",
            "assigned to Topic 9 with 85.0 probability!trained on model with 10 topics\n",
            "{'Topic # 09': ['australia', 'record', 'world', 'sydney', 'canberra', 'show', 'andrew', 'return', 'close', 'open']}\n",
            "\n",
            "Sentence:  lovenkrands dreaming hampden return\n",
            "assigned to Topic 9 with 82.0 probability!trained on model with 10 topics\n",
            "{'Topic # 09': ['australia', 'record', 'world', 'sydney', 'canberra', 'show', 'andrew', 'return', 'close', 'open']}\n",
            "\n",
            "Sentence:  bevan frustrated lack opportunity\n",
            "assigned to Topic 9 with 82.0 probability!trained on model with 10 topics\n",
            "{'Topic # 09': ['australia', 'record', 'world', 'sydney', 'canberra', 'show', 'andrew', 'return', 'close', 'open']}\n",
            "\n",
            "Sentence:  harness racing scratched agricultural show\n",
            "assigned to Topic 9 with 85.0 probability!trained on model with 10 topics\n",
            "{'Topic # 09': ['australia', 'record', 'world', 'sydney', 'canberra', 'show', 'andrew', 'return', 'close', 'open']}\n",
            "\n",
            "Sentence:  klim miss world championship\n",
            "assigned to Topic 9 with 82.0 probability!trained on model with 10 topics\n",
            "{'Topic # 09': ['australia', 'record', 'world', 'sydney', 'canberra', 'show', 'andrew', 'return', 'close', 'open']}\n",
            "\n",
            "Sentence:  celtic bring back rested star uefa clash\n",
            "assigned to Topic 9 with 88.75 probability!trained on model with 10 topics\n",
            "{'Topic # 09': ['australia', 'record', 'world', 'sydney', 'canberra', 'show', 'andrew', 'return', 'close', 'open']}\n",
            "\n",
            "Sentence:  michael jackson sue documentary maker\n",
            "assigned to Topic 9 with 85.0 probability!trained on model with 10 topics\n",
            "{'Topic # 09': ['australia', 'record', 'world', 'sydney', 'canberra', 'show', 'andrew', 'return', 'close', 'open']}\n",
            "\n",
            "Sentence:  firefighter contain acid spill\n",
            "assigned to Topic 11 with 81.0 probability!trained on model with 20 topics\n",
            "{'Topic # 11': ['health', 'canberra', 'fight', 'former', 'fear', 'mental', '2021', 'game', 'public', 'peter']}\n",
            "\n",
            "Sentence:  onesteel invest 80m whyalla steelworks\n",
            "assigned to Topic 4 with 84.17 probability!trained on model with 20 topics\n",
            "{'Topic # 04': ['u', 'dy', 'joe', 'find', 'killed', 'finance', 'mask', 'funding', 'launch', 'thousand']}\n",
            "\n",
            "Sentence:  restraint order issued anti discrimination\n",
            "assigned to Topic 9 with 84.17 probability!trained on model with 20 topics\n",
            "{'Topic # 09': ['nsw', 'election', 'state', 'care', 'aged', 'street', 'local', 'war', 'video', 'coronavirus']}\n",
            "\n",
            "Sentence:  teen face court drug charge\n",
            "assigned to Topic 8 with 84.17 probability!trained on model with 20 topics\n",
            "{'Topic # 08': ['sydney', 'man', 'woman', 'court', 'police', 'child', 'murder', 'face', 'community', 'charged']}\n",
            "\n",
            "Sentence:  bungle leaf doctor waiting practise\n",
            "assigned to Topic 1 with 84.17 probability!trained on model with 20 topics\n",
            "{'Topic # 01': ['south', 'bushfire', 'help', 'protest', 'number', 'old', 'black', 'service', 'inquiry', 'cut']}\n",
            "\n",
            "Sentence:  council offer vandalism reporting reward\n",
            "assigned to Topic 2 with 84.17 probability!trained on model with 20 topics\n",
            "{'Topic # 02': ['wa', 'government', 'home', 'border', 'sa', 'worker', 'premier', 'indigenous', 'plan', 'close']}\n",
            "\n",
            "Sentence:  hagan blood rookie penrith\n",
            "assigned to Topic 3 with 81.0 probability!trained on model with 20 topics\n",
            "{'Topic # 03': ['say', 'record', ';', 'two', 'world', 'island', 'testing', 'pm', 'guilty', 'price']}\n",
            "\n",
            "Sentence:  new boat take waterway\n",
            "assigned to Topic 12 with 81.0 probability!trained on model with 20 topics\n",
            "{'Topic # 12': ['day', 'nt', 'family', 'change', 'live', 'adelaide', 'federal', 'show', 'regional', '2020']}\n",
            "\n",
            "Sentence:  woman face court child prostitution\n",
            "assigned to Topic 8 with 84.17 probability!trained on model with 20 topics\n",
            "{'Topic # 08': ['sydney', 'man', 'woman', 'court', 'police', 'child', 'murder', 'face', 'community', 'charged']}\n",
            "\n",
            "Sentence:  bedi label murali chucker\n",
            "assigned to Topic 19 with 81.0 probability!trained on model with 20 topics\n",
            "{'Topic # 19': ['year', 'melbourne', 'restriction', 'donald', 'coronavirus', 'one', 'new', 'school', 'death', 'get']}\n",
            "\n",
            "Sentence:  mugabe touch paris summit\n",
            "assigned to Topic 16 with 80.4 probability!trained on model with 50 topics\n",
            "{'Topic # 16': ['woman', 'court', 'bushfire', 'trial', 'face', 'joe', 'charge', 'accused', 'city', 'monday']}\n",
            "\n",
            "Sentence:  beware standard alcoholic drink\n",
            "assigned to Topic 29 with 80.4 probability!trained on model with 50 topics\n",
            "{'Topic # 29': ['restriction', 'return', 'water', 'coronavirus', 'president', 'daniel', 'talk', 'despite', 'cost', 'club']}\n",
            "\n",
            "Sentence:  hagan blood rookie penrith\n",
            "assigned to Topic 35 with 80.4 probability!trained on model with 50 topics\n",
            "{'Topic # 35': ['police', 'death', 'house', 'claim', 'centre', 'continue', 'lawyer', 'israel', 'decision', 'battle']}\n",
            "\n",
            "Sentence:  landholder contribution still discussion\n",
            "assigned to Topic 19 with 80.4 probability!trained on model with 50 topics\n",
            "{'Topic # 19': ['show', 'testing', 'make', 'four', 'still', 'urge', 'territory', 'start', 'track', 'point']}\n",
            "\n",
            "Sentence:  tnz shuffle pack defeat loom\n",
            "assigned to Topic 48 with 83.67 probability!trained on model with 50 topics\n",
            "{'Topic # 48': ['hit', 'rule', 'flight', 'power', 'western', 'finance', 'arrest', 'break', 'month', 'reveals']}\n",
            "\n",
            "Sentence:  bedi label murali chucker\n",
            "assigned to Topic 0 with 80.4 probability!trained on model with 50 topics\n",
            "{'Topic # 00': ['covid', '19', 'regional', 'darwin', 'budget', 'new', 'next', 'port', 'free', 'prison']}\n",
            "\n",
            "Sentence:  man charged stuttle murder\n",
            "assigned to Topic 8 with 80.4 probability!trained on model with 50 topics\n",
            "{'Topic # 08': ['man', 'pandemic', 'charged', 'final', 'review', 'jailed', 'murder', 'rugby', 'tour', 'stage']}\n",
            "\n",
            "Sentence:  troubled torino praying miracle\n",
            "assigned to Topic 17 with 80.4 probability!trained on model with 50 topics\n",
            "{'Topic # 17': ['vaccine', 'care', 'aged', '2020', 'guilty', 'hobart', 'rain', 'alan', 'disability', 'dollar']}\n",
            "\n",
            "Sentence:  police investigate muswellbrook death\n",
            "assigned to Topic 35 with 80.4 probability!trained on model with 50 topics\n",
            "{'Topic # 35': ['police', 'death', 'house', 'claim', 'centre', 'continue', 'lawyer', 'israel', 'decision', 'battle']}\n",
            "\n",
            "Sentence:  alinghi fuming another cancellation\n",
            "assigned to Topic 4 with 80.4 probability!trained on model with 50 topics\n",
            "{'Topic # 04': ['travel', 'street', 'leader', 'parliament', 'mine', 'economy', 'indonesia', 'refugee', 'debate', 'another']}\n",
            "\n",
            "Sentence:  councillor contest wollongong independent\n",
            "assigned to Topic 80 with 80.2 probability!trained on model with 100 topics\n",
            "{'Topic # 80': ['woman', 'council', 'public', 'warns', 'recovery', 'remote', 'facing', 'unemployment', '3', 'heavy']}\n",
            "\n",
            "Sentence:  beware standard alcoholic drink\n",
            "assigned to Topic 92 with 80.2 probability!trained on model with 100 topics\n",
            "{'Topic # 92': ['town', 'fall', 'green', 'sport', 'decision', 'award', 'film', 'made', 'comment', 'receives']}\n",
            "\n",
            "Sentence:  four nominate nats charter tower preselection\n",
            "assigned to Topic 14 with 85.86 probability!trained on model with 100 topics\n",
            "{'Topic # 14': ['state', 'four', 'problem', 'bail', 'lift', 'outside', 'tower', 'richmond', 'tackle', 'approach']}\n",
            "\n",
            "Sentence:  hagan blood rookie penrith\n",
            "assigned to Topic 91 with 80.2 probability!trained on model with 100 topics\n",
            "{'Topic # 91': ['killed', 'reveals', 'flooding', 'billion', 'point', 'riot', 'brother', 'emission', 'blood', 'sun']}\n",
            "\n",
            "Sentence:  molotov cocktail suspected melb hotel fire\n",
            "assigned to Topic 11 with 85.86 probability!trained on model with 100 topics\n",
            "{'Topic # 11': ['fire', 'hotel', 'general', 'area', 'self', 'threatens', 'unveils', 'suspected', 'specie', 'korean']}\n",
            "\n",
            "Sentence:  murray meeting wouldnt detract ministerial\n",
            "assigned to Topic 22 with 80.2 probability!trained on model with 100 topics\n",
            "{'Topic # 22': ['budget', 'doctor', 'sign', 'murray', 'expected', 'payment', 'alcohol', 'newcastle', 'success', 'meeting']}\n",
            "\n",
            "Sentence:  penalty church damaged monument\n",
            "assigned to Topic 54 with 80.2 probability!trained on model with 100 topics\n",
            "{'Topic # 54': ['sexual', 'wall', 'campaign', 'great', 'survivor', 'church', 'small', 'severe', 'indonesian', 'memorial']}\n",
            "\n",
            "Sentence:  verstappen pleased new minardis track debut\n",
            "assigned to Topic 86 with 80.2 probability!trained on model with 100 topics\n",
            "{'Topic # 86': ['new', 'sale', 'surge', 'low', 'track', 'reach', 'paid', 'asked', 'agrees', 'debut']}\n",
            "\n",
            "Sentence:  farmer celebrate good rain\n",
            "assigned to Topic 33 with 80.2 probability!trained on model with 100 topics\n",
            "{'Topic # 33': ['family', 'people', 'victorian', 'farmer', 'rain', 'prime', 'drought', 'break', 'good', 'bridge']}\n",
            "\n",
            "Sentence:  palestinian killed gaza strip crossing point\n",
            "assigned to Topic 91 with 85.86 probability!trained on model with 100 topics\n",
            "{'Topic # 91': ['killed', 'reveals', 'flooding', 'billion', 'point', 'riot', 'brother', 'emission', 'blood', 'sun']}\n",
            "\n",
            "Sentence:  aba decides community broadcasting licence\n",
            "assigned to Topic 85 with 80.1 probability!trained on model with 200 topics\n",
            "{'Topic # 85': ['community', 'six', 'farming', 'licence', 'goal', 'course', 'thriller', 'envoy', 'decides', 'junta']}\n",
            "\n",
            "Sentence:  business prepare terrorist attack\n",
            "assigned to Topic 28 with 80.1 probability!trained on model with 200 topics\n",
            "{'Topic # 28': ['business', 'attack', 'cut', 'behind', 'suicide', 'advice', 'commonwealth', 'loan', 'prepare', 'terrorist']}\n",
            "\n",
            "Sentence:  code conduct toughens organ donation regulation\n",
            "assigned to Topic 98 with 85.79 probability!trained on model with 200 topics\n",
            "{'Topic # 98': ['water', 'high', 'king', 'level', 'supply', 'code', 'donation', 'conduct', 'regulation', 'organ']}\n",
            "\n",
            "Sentence:  juvenile sex offender unlikely reoffend\n",
            "assigned to Topic 97 with 80.1 probability!trained on model with 200 topics\n",
            "{'Topic # 97': ['time', 'sex', 'best', 'night', 'unlikely', 'offender', 'oscar', 'eas', 'woe', 'exporter']}\n",
            "\n",
            "Sentence:  teen face court drug charge\n",
            "assigned to Topic 190 with 83.42 probability!trained on model with 200 topics\n",
            "{'Topic # 190': ['court', 'face', 'charge', 'drug', 'want', 'teen', 'crown', 'hold', 'valley', 'hunter']}\n",
            "\n",
            "Sentence:  deportivo slip buoyant swiss minnow basel\n",
            "assigned to Topic 47 with 80.1 probability!trained on model with 200 topics\n",
            "{'Topic # 47': ['canberra', 'rural', 'survivor', 'sign', 'order', 'memorial', 'army', 'chase', 'fisherman', 'flame']}\n",
            "\n",
            "Sentence:  hagan blood rookie penrith\n",
            "assigned to Topic 50 with 80.1 probability!trained on model with 200 topics\n",
            "{'Topic # 50': ['adelaide', 'rescue', 'discus', 'cancelled', 'blood', 'paper', 'mixed', 'penrith', 'view', 'petition']}\n",
            "\n",
            "Sentence:  miner exploring nickel deposit\n",
            "assigned to Topic 193 with 80.1 probability!trained on model with 200 topics\n",
            "{'Topic # 193': ['weather', 'rugby', 'away', 'wild', 'indian', 'success', 'ticket', 'sold', 'minute', 'miner']}\n",
            "\n",
            "Sentence:  wide bay economy growing stronger\n",
            "assigned to Topic 94 with 83.42 probability!trained on model with 200 topics\n",
            "{'Topic # 94': ['victorian', 'student', 'break', 'hope', 'economy', 'bay', 'growing', 'fourth', 'causing', 'uni']}\n",
            "\n",
            "Sentence:  planning intersection revamp begin\n",
            "assigned to Topic 44 with 80.1 probability!trained on model with 200 topics\n",
            "{'Topic # 44': ['right', 'chief', 'begin', 'pub', 'advocate', 'childrens', 'brawl', 'planning', 'seed', 'comedy']}\n",
            "\n",
            "Sentence:  code conduct toughens organ donation regulation\n",
            "assigned to Topic 201 with 85.76 probability!trained on model with 300 topics\n",
            "{'Topic # 201': ['challenge', 'code', 'donation', 'unlikely', 'wool', 'done', 'conduct', 'regulation', 'racial', 'organ']}\n",
            "\n",
            "Sentence:  injured rio pull buenos aire open\n",
            "assigned to Topic 60 with 80.07 probability!trained on model with 300 topics\n",
            "{'Topic # 60': ['open', 'want', 'injured', 'mayor', 'rio', 'delayed', 'pledge', 'pull', 'pas', 'caalas']}\n",
            "\n",
            "Sentence:  hagan blood rookie penrith\n",
            "assigned to Topic 138 with 80.07 probability!trained on model with 300 topics\n",
            "{'Topic # 138': ['hong', 'green', 'kong', 'massive', 'blood', 'championship', 'penrith', 'write', 'punished', 'rookie']}\n",
            "\n",
            "Sentence:  illegal fishing hot spot identified\n",
            "assigned to Topic 121 with 83.39 probability!trained on model with 300 topics\n",
            "{'Topic # 121': ['illegal', 'hot', 'fishing', 'spot', 'bendigo', 'identified', 'secures', 'flushed', 'caalas', \"'utter\"]}\n",
            "\n",
            "Sentence:  macarthur kingfisher suffers minor damage\n",
            "assigned to Topic 280 with 80.07 probability!trained on model with 300 topics\n",
            "{'Topic # 280': ['hospital', 'damage', 'complaint', 'suffers', 'tamworth', 'minor', 'macarthur', 'nikkolls', \"'caged\", 'forst']}\n",
            "\n",
            "Sentence:  offer roll classic holden\n",
            "assigned to Topic 206 with 80.07 probability!trained on model with 300 topics\n",
            "{'Topic # 206': ['rise', 'offer', 'dam', 'roll', 'classic', 'holden', 'relic', \"'utter\", \"'caged\", 'forst']}\n",
            "\n",
            "Sentence:  funeral held cricket legend\n",
            "assigned to Topic 64 with 80.07 probability!trained on model with 300 topics\n",
            "{'Topic # 64': ['australian', 'health', 'minister', 'cricket', 'traveller', 'funeral', 'held', 'affect', 'legend', 'albany']}\n",
            "\n",
            "Sentence:  childrens right overlooked advocate\n",
            "assigned to Topic 132 with 80.07 probability!trained on model with 300 topics\n",
            "{'Topic # 132': ['week', 'centre', 'right', 'detention', 'worst', 'advocate', 'summit', 'paris', 'childrens', 'cotton']}\n",
            "\n",
            "Sentence:  greece lightning olympic work control\n",
            "assigned to Topic 246 with 83.39 probability!trained on model with 300 topics\n",
            "{'Topic # 246': ['work', 'control', 'olympic', 'college', 'experience', 'traffic', 'together', 'au', 'prevent', 'lightning']}\n",
            "\n",
            "Sentence:  sad note esteemed music educator dy\n",
            "assigned to Topic 73 with 83.39 probability!trained on model with 300 topics\n",
            "{'Topic # 73': ['dy', 'michael', 'music', 'going', 'sue', 'skill', 'documentary', 'maker', 'note', 'crane']}\n",
            "\n",
            "Sentence:  swiss challenger looking future\n",
            "assigned to Topic 233 with 80.04 probability!trained on model with 500 topics\n",
            "{'Topic # 233': ['president', 'make', 'future', 'speech', 'looking', 'sister', 'swiss', 'challenger', 'segra', \"'utter\"]}\n",
            "\n",
            "Sentence:  beware standard alcoholic drink\n",
            "assigned to Topic 465 with 80.04 probability!trained on model with 500 topics\n",
            "{'Topic # 465': ['two', 'drink', 'standard', 'alcoholic', 'monster', 'beware', 'mannion', '1710', 'bolto', 'segra']}\n",
            "\n",
            "Sentence:  employee granted restraining order\n",
            "assigned to Topic 363 with 80.04 probability!trained on model with 500 topics\n",
            "{'Topic # 363': ['bill', 'river', 'order', 'granted', 'employee', 'plate', 'buries', 'blizzard', 'restraining', 'outclass']}\n",
            "\n",
            "Sentence:  flight attendant action wont affect bundaberg\n",
            "assigned to Topic 455 with 85.74 probability!trained on model with 500 topics\n",
            "{'Topic # 455': ['flight', 'action', 'wont', 'affect', 'bundaberg', 'attendant', 'mannion', 'nikkolls', 'segra', 'noris']}\n",
            "\n",
            "Sentence:  hagan blood rookie penrith\n",
            "assigned to Topic 404 with 80.04 probability!trained on model with 500 topics\n",
            "{'Topic # 404': ['guard', 'blood', 'try', 'penrith', 'dismissed', 'stopping', 'administrator', 'rookie', 'hagan', 'forst']}\n",
            "\n",
            "Sentence:  kalgoorlie boulder crime rate decline\n",
            "assigned to Topic 122 with 83.37 probability!trained on model with 500 topics\n",
            "{'Topic # 122': ['rate', 'crime', 'decline', 'kalgoorlie', 'boulder', 'avoiding', 'olonga', 'linder', 'caalas', \"'caged\"]}\n",
            "\n",
            "Sentence:  miner exploring nickel deposit\n",
            "assigned to Topic 102 with 80.04 probability!trained on model with 500 topics\n",
            "{'Topic # 102': ['miner', 'illawarra', 'deposit', 'gladstone', 'nickel', 'rocky', 'injection', 'relic', 'exploring', 'rejuvenated']}\n",
            "\n",
            "Sentence:  60 detained immigration raid\n",
            "assigned to Topic 22 with 80.04 probability!trained on model with 500 topics\n",
            "{'Topic # 22': ['raid', '60', 'detained', 'immigration', 'wing', 'rex', 'clip', 'bolto', 'nikkolls', '1710']}\n",
            "\n",
            "Sentence:  mud crab business move\n",
            "assigned to Topic 69 with 80.04 probability!trained on model with 500 topics\n",
            "{'Topic # 69': ['business', 'move', 'mud', 'crab', 'segra', \"'caged\", 'nikkolls', \"'utter\", 'bolto', 'forst']}\n",
            "\n",
            "Sentence:  farina pay tribute thomson\n",
            "assigned to Topic 435 with 80.04 probability!trained on model with 500 topics\n",
            "{'Topic # 435': ['pay', 'another', 'tribute', 'greater', 'ethiopia', 'thomson', 'eyeing', 'farina', 'bekele', 'mannion']}\n"
          ]
        }
      ]
    }
  ],
  "metadata": {
    "colab": {
      "provenance": []
    },
    "gpuClass": "standard",
    "kernelspec": {
      "display_name": "Python 3",
      "name": "python3"
    },
    "language_info": {
      "name": "python"
    }
  },
  "nbformat": 4,
  "nbformat_minor": 0
}