{
  "nbformat": 4,
  "nbformat_minor": 0,
  "metadata": {
    "colab": {
      "provenance": []
    },
    "kernelspec": {
      "name": "python3",
      "display_name": "Python 3"
    },
    "language_info": {
      "name": "python"
    },
    "gpuClass": "standard"
  },
  "cells": [
    {
      "cell_type": "code",
      "execution_count": 9,
      "metadata": {
        "colab": {
          "base_uri": "https://localhost:8080/"
        },
        "id": "LBUJj1AB--7T",
        "outputId": "ddd2d707-54af-4d91-90a7-8129314a325f"
      },
      "outputs": [
        {
          "output_type": "stream",
          "name": "stderr",
          "text": [
            "[nltk_data] Downloading package stopwords to /root/nltk_data...\n",
            "[nltk_data]   Package stopwords is already up-to-date!\n"
          ]
        }
      ],
      "source": [
        "import pandas as pd;\n",
        "import numpy as np;\n",
        "import scipy as sp;\n",
        "import sklearn;\n",
        "import sys;\n",
        "import nltk\n",
        "nltk.download('stopwords')\n",
        "from nltk.corpus import stopwords;\n",
        "from gensim.models import ldamodel\n",
        "import gensim.corpora;\n",
        "from sklearn.feature_extraction.text import CountVectorizer, TfidfTransformer;\n",
        "from sklearn.decomposition import NMF;\n",
        "from sklearn.preprocessing import normalize;\n",
        "import pickle;\n"
      ]
    },
    {
      "cell_type": "code",
      "source": [
        "pip install memory_profiler;\n"
      ],
      "metadata": {
        "colab": {
          "base_uri": "https://localhost:8080/"
        },
        "id": "MCFRDGHFZNsJ",
        "outputId": "7c05f5e1-b03f-4d6a-fffe-3b83ed9d944e"
      },
      "execution_count": 10,
      "outputs": [
        {
          "output_type": "stream",
          "name": "stdout",
          "text": [
            "Looking in indexes: https://pypi.org/simple, https://us-python.pkg.dev/colab-wheels/public/simple/\n",
            "Requirement already satisfied: memory_profiler in /usr/local/lib/python3.7/dist-packages (0.61.0)\n",
            "Requirement already satisfied: psutil in /usr/local/lib/python3.7/dist-packages (from memory_profiler) (5.4.8)\n"
          ]
        }
      ]
    },
    {
      "cell_type": "code",
      "source": [
        "pip install line_profiler\n"
      ],
      "metadata": {
        "colab": {
          "base_uri": "https://localhost:8080/"
        },
        "id": "RMy6GlPmf7N_",
        "outputId": "111eb880-a446-4f5d-c55b-57e0379c852a"
      },
      "execution_count": 11,
      "outputs": [
        {
          "output_type": "stream",
          "name": "stdout",
          "text": [
            "Looking in indexes: https://pypi.org/simple, https://us-python.pkg.dev/colab-wheels/public/simple/\n",
            "Requirement already satisfied: line_profiler in /usr/local/lib/python3.7/dist-packages (4.0.1)\n"
          ]
        }
      ]
    },
    {
      "cell_type": "code",
      "source": [
        "%load_ext line_profiler\n",
        "%load_ext memory_profiler"
      ],
      "metadata": {
        "colab": {
          "base_uri": "https://localhost:8080/"
        },
        "id": "RZ2BpVpTf-un",
        "outputId": "51a2fe25-76fa-4ecd-e3d2-16be1a8ccfe6"
      },
      "execution_count": 12,
      "outputs": [
        {
          "output_type": "stream",
          "name": "stdout",
          "text": [
            "The line_profiler extension is already loaded. To reload it, use:\n",
            "  %reload_ext line_profiler\n",
            "The memory_profiler extension is already loaded. To reload it, use:\n",
            "  %reload_ext memory_profiler\n"
          ]
        }
      ]
    },
    {
      "cell_type": "code",
      "source": [
        "from google.colab import drive\n",
        "drive.mount('/content/drive')"
      ],
      "metadata": {
        "colab": {
          "base_uri": "https://localhost:8080/"
        },
        "id": "41NT_HR1AUE4",
        "outputId": "a2e332ea-b6e2-4809-e06e-81f0918d23a6"
      },
      "execution_count": 13,
      "outputs": [
        {
          "output_type": "stream",
          "name": "stdout",
          "text": [
            "Drive already mounted at /content/drive; to attempt to forcibly remount, call drive.mount(\"/content/drive\", force_remount=True).\n"
          ]
        }
      ]
    },
    {
      "cell_type": "code",
      "source": [
        "data = pd.read_csv('drive/My Drive/abcnews-date-text.csv', error_bad_lines=False);\n",
        "data_text = data[['headline_text']];"
      ],
      "metadata": {
        "colab": {
          "base_uri": "https://localhost:8080/"
        },
        "id": "lO3Cl6gCFvJf",
        "outputId": "9b503bd5-47b7-4351-cfb1-9c3f0d3346c4"
      },
      "execution_count": 14,
      "outputs": [
        {
          "output_type": "stream",
          "name": "stderr",
          "text": [
            "/usr/local/lib/python3.7/dist-packages/IPython/core/interactiveshell.py:3326: FutureWarning: The error_bad_lines argument has been deprecated and will be removed in a future version.\n",
            "\n",
            "\n",
            "  exec(code_obj, self.user_global_ns, self.user_ns)\n"
          ]
        }
      ]
    },
    {
      "cell_type": "code",
      "source": [
        "data_text.shape\n",
        "data_trimmed=data_text.iloc[:10000,:]"
      ],
      "metadata": {
        "id": "rlggFp5bGhDv"
      },
      "execution_count": 15,
      "outputs": []
    },
    {
      "cell_type": "code",
      "source": [
        "data_text = data_trimmed.astype('str');\n",
        "for idx in range(len(data_text)):\n",
        "    \n",
        "    #go through each word in each data_text row, remove stopwords, and set them on the index.\n",
        "    data_text.iloc[idx]['headline_text'] = [word for word in data_text.iloc[idx]['headline_text'].split(' ') if word not in stopwords.words()];\n",
        "    \n",
        "    #print logs to monitor output\n",
        "    if idx % 1000 == 0:\n",
        "        sys.stdout.write('\\rc = ' + str(idx) + ' / ' + str(len(data_text)));\n",
        "#save data because it takes very long to remove stop words\n",
        "pickle.dump(data_text, open('data_text.dat', 'wb'))\n",
        "#get the words as an array for lda input\n",
        "train_headlines = [value[0] for value in data_text.iloc[0:].values]"
      ],
      "metadata": {
        "colab": {
          "base_uri": "https://localhost:8080/"
        },
        "id": "T8o2swORJJCd",
        "outputId": "fbf113bc-9b0a-4f2a-f202-a14c026e71e7"
      },
      "execution_count": 16,
      "outputs": [
        {
          "output_type": "stream",
          "name": "stdout",
          "text": [
            "c = 9000 / 10000"
          ]
        }
      ]
    },
    {
      "cell_type": "code",
      "source": [
        "num_topics = 10;\n",
        "\n",
        "id2word = gensim.corpora.Dictionary(train_headlines);\n",
        "corpus = [id2word.doc2bow(text) for text in train_headlines];\n",
        "lda = ldamodel.LdaModel(corpus=corpus, id2word=id2word, num_topics=num_topics);"
      ],
      "metadata": {
        "colab": {
          "base_uri": "https://localhost:8080/"
        },
        "id": "Y_pRefUzMJ5_",
        "outputId": "cb396718-bded-4836-e0e7-b2b4ad56d045"
      },
      "execution_count": 17,
      "outputs": [
        {
          "output_type": "stream",
          "name": "stderr",
          "text": [
            "WARNING:gensim.models.ldamodel:too few updates, training might not converge; consider increasing the number of passes or iterations to improve accuracy\n"
          ]
        }
      ]
    },
    {
      "cell_type": "code",
      "source": [
        "import resource\n",
        "import tracemalloc\n",
        "def get_lda_topics(model, num_topics):\n",
        "    word_dict = {};\n",
        "    usertime=[]\n",
        "    memory=[]\n",
        "\n",
        "    tracemalloc.start()\n",
        "    for i in range(num_topics):\n",
        "        words = model.show_topic(i, topn = 20);\n",
        "        word_dict['Topic # ' + '{:02d}'.format(i+1)] = [i[0] for i in words];\n",
        "        usage=resource.getrusage(resource.RUSAGE_SELF)\n",
        "        usertime.append(usage[1])\n",
        "        memory.append(tracemalloc.get_traced_memory()[0] )\n",
        "    tracemalloc.stop()\n",
        "    return usertime, memory, pd.DataFrame(word_dict);"
      ],
      "metadata": {
        "id": "d5YWUog6MfNW"
      },
      "execution_count": 50,
      "outputs": []
    },
    {
      "cell_type": "code",
      "source": [
        "%memit  get_lda_topics(lda, num_topics)"
      ],
      "metadata": {
        "colab": {
          "base_uri": "https://localhost:8080/"
        },
        "id": "3AuiNTUDMgEA",
        "outputId": "697c3638-1997-4f59-ee8f-727e6eedd679"
      },
      "execution_count": 21,
      "outputs": [
        {
          "output_type": "stream",
          "name": "stdout",
          "text": [
            "peak memory: 420.68 MiB, increment: 2.01 MiB\n"
          ]
        }
      ]
    },
    {
      "cell_type": "code",
      "source": [
        "import resource\n",
        "def using(point=\"\"):\n",
        "    usage=resource.getrusage(resource.RUSAGE_THREAD)\n",
        "    print(usage)\n",
        "    return '''%s: usertime=%s systime=%s mem=%s mb\n",
        "           '''%(point,usage[0],usage[1],\n",
        "                usage[2]/1024.0 )"
      ],
      "metadata": {
        "id": "c-NVfmUHZn5a"
      },
      "execution_count": 28,
      "outputs": []
    },
    {
      "cell_type": "code",
      "source": [
        "import gc\n",
        "\n",
        "gc.collect()\n",
        "\n",
        "print(using(\"before\"))\n",
        "wrk = [\"wasting mem\"] * 1000000\n",
        "print(using(\"after\"))"
      ],
      "metadata": {
        "colab": {
          "base_uri": "https://localhost:8080/"
        },
        "id": "e38it5evZo5D",
        "outputId": "62cd7c74-396a-4f6a-a62c-a5a686a25438"
      },
      "execution_count": 29,
      "outputs": [
        {
          "output_type": "stream",
          "name": "stdout",
          "text": [
            "resource.struct_rusage(ru_utime=320.725721, ru_stime=43.123539, ru_maxrss=444132, ru_ixrss=0, ru_idrss=0, ru_isrss=0, ru_minflt=7940291, ru_majflt=482, ru_nswap=0, ru_inblock=117440, ru_oublock=2056, ru_msgsnd=0, ru_msgrcv=0, ru_nsignals=0, ru_nvcsw=59285, ru_nivcsw=66365)\n",
            "before: usertime=320.725721 systime=43.123539 mem=433.72265625 mb\n",
            "           \n",
            "resource.struct_rusage(ru_utime=320.730785, ru_stime=43.123547, ru_maxrss=444132, ru_ixrss=0, ru_idrss=0, ru_isrss=0, ru_minflt=7940292, ru_majflt=482, ru_nswap=0, ru_inblock=117440, ru_oublock=2056, ru_msgsnd=0, ru_msgrcv=0, ru_nsignals=0, ru_nvcsw=59300, ru_nivcsw=66371)\n",
            "after: usertime=320.730785 systime=43.123547 mem=433.72265625 mb\n",
            "           \n"
          ]
        }
      ]
    },
    {
      "cell_type": "code",
      "source": [
        "from matplotlib import pyplot as plt \n",
        "\n",
        "usage, memory, pddf = get_lda_topics(lda, num_topics)\n",
        "\n",
        "plt.title(\"Memory usage with time\")\n",
        "print(usage)\n",
        "print(memory)\n",
        "# Plot values using x,y coordinates:\n",
        "plt.plot(usage,memory)\n",
        "plt.show()"
      ],
      "metadata": {
        "colab": {
          "base_uri": "https://localhost:8080/",
          "height": 329
        },
        "id": "1iidrk26bFWN",
        "outputId": "c71a0337-d9fe-4e8e-c8f4-d25d296eaf94"
      },
      "execution_count": 51,
      "outputs": [
        {
          "output_type": "stream",
          "name": "stdout",
          "text": [
            "[44.791012, 44.791012, 44.791012, 44.791032, 44.791032, 44.791032, 44.791044, 44.791735, 44.791975, 44.791975]\n",
            "[1399, 1718, 2005, 2292, 2611, 3226, 3513, 3800, 4151, 4502]\n"
          ]
        },
        {
          "output_type": "display_data",
          "data": {
            "text/plain": [
              "<Figure size 432x288 with 1 Axes>"
            ],
            "image/png": "[encoded data removed]"
          },
          "metadata": {
            "needs_background": "light"
          }
        }
      ]
    }
  ]
}